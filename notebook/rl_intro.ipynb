{
 "cells": [
  {
   "cell_type": "code",
   "execution_count": 1,
   "metadata": {},
   "outputs": [],
   "source": []
  },
  {
   "cell_type": "code",
   "execution_count": 2,
   "metadata": {},
   "outputs": [
    {
     "name": "stdout",
     "output_type": "stream",
     "text": [
      "sample action:  2\n",
      "observation space shape:  (8,)\n",
      "sample observation [ 0.07422984 -0.9098113  -3.7482004   0.6108804   0.97972715 -0.26707283\n",
      "  0.44427294  0.8627386 ]\n"
     ]
    }
   ],
   "source": [
    "# pip install \"gym[box2d]\"\n",
    "\n",
    "import gym\n",
    "\n",
    "env = gym.make(\"LunarLander-v2\")\n",
    "\n",
    "env.reset()\n",
    "\n",
    "print(\"sample action: \", env.action_space.sample())\n",
    "print(\"observation space shape: \", env.observation_space.shape)\n",
    "print(\"sample observation\", env.observation_space.sample())\n",
    "\n",
    "env.close()"
   ]
  },
  {
   "cell_type": "code",
   "execution_count": null,
   "metadata": {},
   "outputs": [
    {
     "name": "stderr",
     "output_type": "stream",
     "text": [
      "2024-12-17 15:40:59.867 python[17369:5430094] +[IMKClient subclass]: chose IMKClient_Modern\n",
      "2024-12-17 15:40:59.867 python[17369:5430094] +[IMKInputSession subclass]: chose IMKInputSession_Modern\n"
     ]
    },
    {
     "ename": "",
     "evalue": "",
     "output_type": "error",
     "traceback": [
      "\u001b[1;31mThe Kernel crashed while executing code in the current cell or a previous cell. \n",
      "\u001b[1;31mPlease review the code in the cell(s) to identify a possible cause of the failure. \n",
      "\u001b[1;31mClick <a href='https://aka.ms/vscodeJupyterKernelCrash'>here</a> for more info. \n",
      "\u001b[1;31mView Jupyter <a href='command:jupyter.viewOutput'>log</a> for further details."
     ]
    }
   ],
   "source": [
    "# pip install \"gym[box2d]\"\n",
    "\n",
    "import gym\n",
    "\n",
    "env = gym.make(\"LunarLander-v2\", render_mode=\"human\")  # 'human' for on-screen rendering\n",
    "env.reset()\n",
    "\n",
    "for _ in range(100):\n",
    "    env.render()\n",
    "    action = env.action_space.sample()  # Random action\n",
    "    env.step(action)\n",
    "\n",
    "env.close()"
   ]
  },
  {
   "cell_type": "code",
   "execution_count": null,
   "metadata": {},
   "outputs": [],
   "source": [
    "# pip install \"gym[box2d]\"\n",
    "\n",
    "import gym\n",
    "\n",
    "env = gym.make(\"LunarLander-v2\", render_mode=\"human\")  # 'human' for on-screen rendering\n",
    "env.reset()\n",
    "\n",
    "for step in range(5000):\n",
    "    env.render()\n",
    "    action = env.action_space.sample()  # Random action\n",
    "    env.step(action)\n",
    "\n",
    "env.close()"
   ]
  }
 ],
 "metadata": {
  "kernelspec": {
   "display_name": "draftai",
   "language": "python",
   "name": "python3"
  },
  "language_info": {
   "codemirror_mode": {
    "name": "ipython",
    "version": 3
   },
   "file_extension": ".py",
   "mimetype": "text/x-python",
   "name": "python",
   "nbconvert_exporter": "python",
   "pygments_lexer": "ipython3",
   "version": "3.9.20"
  }
 },
 "nbformat": 4,
 "nbformat_minor": 2
}
