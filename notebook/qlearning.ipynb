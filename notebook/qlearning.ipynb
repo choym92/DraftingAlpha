{
 "cells": [
  {
   "cell_type": "code",
   "execution_count": 8,
   "metadata": {},
   "outputs": [],
   "source": [
    "import os\n",
    "import random\n",
    "os.chdir(\"..\")"
   ]
  },
  {
   "cell_type": "code",
   "execution_count": 9,
   "metadata": {},
   "outputs": [],
   "source": [
    "import os\n",
    "import pandas as pd\n",
    "import random\n",
    "import time\n",
    "\n",
    "# Settings\n",
    "ADP_FOLDER = \"adp\"\n",
    "SEASONAL_STATS_FOLDER = \"seasonalstats\"\n",
    "DEFENSIVE_STATS_FOLDER = \"defensivestats\"\n",
    "RESULTS_FOLDER = \"results\"\n",
    "NUMBER_OF_TRIALS = 3\n",
    "NUM_MANAGERS = 12\n",
    "NUM_ROUNDS = 16\n",
    "\n",
    "# Position limits and requirements\n",
    "POSITION_LIMITS = {\"QB\": 4, \"RB\": 8, \"WR\": 8, \"TE\": 3, \"K\": 3, \"DST\": 3}\n",
    "REQUIRED_POSITIONS = {\"QB\": 1, \"K\": 1, \"DST\": 1, \"RB\": 2, \"WR\": 2, \"TE\": 1}\n",
    "\n",
    "# Weighted probabilities for player selection\n",
    "ROUND_1_3_WEIGHTS = [0.64, 0.20, 0.10, 0.05, 0.01]  # Rounds 1–3\n",
    "ROUND_4_16_WEIGHTS = [0.50, 0.10, 0.10, 0.10, 0.10, 0.10]  # Rounds 4–16\n",
    "\n",
    "\n",
    "# Utility: Load files\n",
    "def load_file(folder, filename):\n",
    "    file_path = os.path.join(folder, filename)\n",
    "    if os.path.exists(file_path):\n",
    "        return pd.read_csv(file_path)\n",
    "    raise FileNotFoundError(f\"File {filename} not found in folder {folder}\")\n",
    "\n",
    "\n",
    "# Load ADP file\n",
    "def load_adp_file():\n",
    "    year = random.choice([2018, 2019, 2020, 2021, 2022, 2023])\n",
    "    file_name = f\"{year}ADP.csv\"\n",
    "    adp_df = load_file(ADP_FOLDER, file_name)\n",
    "    adp_df['year'] = year  \n",
    "    return adp_df\n",
    "\n",
    "\n",
    "# Load stats\n",
    "def load_seasonal_stats(year):\n",
    "    return load_file(SEASONAL_STATS_FOLDER, f\"player_stats_{year}.csv\")\n",
    "\n",
    "\n",
    "def load_defensive_stats(year):\n",
    "    return load_file(DEFENSIVE_STATS_FOLDER, f\"seasonal_defensive_stats_{year}.csv\")\n",
    "\n",
    "\n",
    "# Merge stats into ADP\n",
    "def merge_stats(adp_df, seasonal_stats_df, defensive_stats_df):\n",
    "    adp_df = adp_df.merge(\n",
    "        seasonal_stats_df[[\"player_id\", \"fppr\"]], on=\"player_id\", how=\"left\"\n",
    "    )\n",
    "    defensive_stats_df = defensive_stats_df.rename(columns={\"pa_team\": \"player_id\", \"fpts\": \"def_fpts\"})\n",
    "    adp_df = adp_df.merge(\n",
    "        defensive_stats_df[[\"player_id\", \"def_fpts\"]], on=\"player_id\", how=\"left\"\n",
    "    )\n",
    "    adp_df[\"fpts\"] = adp_df.apply(\n",
    "        lambda row: row[\"def_fpts\"] if row[\"POSITION\"] == \"DST\" else row[\"fppr\"], axis=1\n",
    "    )\n",
    "    return adp_df\n",
    "\n",
    "\n",
    "# Select player with weighted probabilities\n",
    "def select_player_with_weights(players, weights):\n",
    "    \"\"\"\n",
    "    Randomly select a player based on weighted probabilities.\n",
    "    \"\"\"\n",
    "    return random.choices(players.to_dict(\"records\"), weights=weights[:len(players)], k=1)[0]\n",
    "\n"
   ]
  },
  {
   "cell_type": "code",
   "execution_count": null,
   "metadata": {},
   "outputs": [],
   "source": []
  },
  {
   "cell_type": "code",
   "execution_count": null,
   "metadata": {},
   "outputs": [
    {
     "ename": "NameError",
     "evalue": "name 'adp_folder' is not defined",
     "output_type": "error",
     "traceback": [
      "\u001b[0;31m---------------------------------------------------------------------------\u001b[0m",
      "\u001b[0;31mNameError\u001b[0m                                 Traceback (most recent call last)",
      "Cell \u001b[0;32mIn[7], line 1\u001b[0m\n\u001b[0;32m----> 1\u001b[0m adp_df \u001b[38;5;241m=\u001b[39m \u001b[43mload_adp_file\u001b[49m\u001b[43m(\u001b[49m\u001b[43m)\u001b[49m\n",
      "Cell \u001b[0;32mIn[4], line 5\u001b[0m, in \u001b[0;36mload_adp_file\u001b[0;34m()\u001b[0m\n\u001b[1;32m      3\u001b[0m year \u001b[38;5;241m=\u001b[39m random\u001b[38;5;241m.\u001b[39mchoice([\u001b[38;5;241m2018\u001b[39m, \u001b[38;5;241m2019\u001b[39m, \u001b[38;5;241m2020\u001b[39m, \u001b[38;5;241m2021\u001b[39m, \u001b[38;5;241m2022\u001b[39m, \u001b[38;5;241m2023\u001b[39m])\n\u001b[1;32m      4\u001b[0m file_name \u001b[38;5;241m=\u001b[39m \u001b[38;5;124mf\u001b[39m\u001b[38;5;124m\"\u001b[39m\u001b[38;5;132;01m{\u001b[39;00myear\u001b[38;5;132;01m}\u001b[39;00m\u001b[38;5;124mADP.csv\u001b[39m\u001b[38;5;124m\"\u001b[39m\n\u001b[0;32m----> 5\u001b[0m file_path \u001b[38;5;241m=\u001b[39m os\u001b[38;5;241m.\u001b[39mpath\u001b[38;5;241m.\u001b[39mjoin(\u001b[43madp_folder\u001b[49m, file_name)\n\u001b[1;32m      6\u001b[0m \u001b[38;5;28;01mif\u001b[39;00m os\u001b[38;5;241m.\u001b[39mpath\u001b[38;5;241m.\u001b[39mexists(file_path):\n\u001b[1;32m      7\u001b[0m     adp_df \u001b[38;5;241m=\u001b[39m pd\u001b[38;5;241m.\u001b[39mread_csv(file_path)\n",
      "\u001b[0;31mNameError\u001b[0m: name 'adp_folder' is not defined"
     ]
    }
   ],
   "source": []
  },
  {
   "cell_type": "code",
   "execution_count": null,
   "metadata": {},
   "outputs": [],
   "source": []
  }
 ],
 "metadata": {
  "kernelspec": {
   "display_name": "draftai",
   "language": "python",
   "name": "python3"
  },
  "language_info": {
   "codemirror_mode": {
    "name": "ipython",
    "version": 3
   },
   "file_extension": ".py",
   "mimetype": "text/x-python",
   "name": "python",
   "nbconvert_exporter": "python",
   "pygments_lexer": "ipython3",
   "version": "3.9.20"
  }
 },
 "nbformat": 4,
 "nbformat_minor": 2
}
